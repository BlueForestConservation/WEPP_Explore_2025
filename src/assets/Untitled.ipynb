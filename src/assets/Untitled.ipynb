{
 "cells": [
  {
   "cell_type": "code",
   "execution_count": 1,
   "id": "587eaed6-5671-4905-8968-37dfcbcb34e6",
   "metadata": {},
   "outputs": [
    {
     "data": {
      "application/vnd.jupyter.widget-view+json": {
       "model_id": "2235c184b86a49a08f1efc5f10630ad0",
       "version_major": 2,
       "version_minor": 0
      },
      "text/plain": [
       "interactive(children=(Dropdown(description='Variable:', options=('Runoff (mm)', 'Sed Del Density (tonne/ha)', …"
      ]
     },
     "metadata": {},
     "output_type": "display_data"
    }
   ],
   "source": [
    "import pandas as pd\n",
    "import matplotlib.pyplot as plt\n",
    "from ipywidgets import interact, widgets\n",
    "\n",
    "# Sample DataFrame\n",
    "df = pd.DataFrame({\n",
    "    'Date': pd.date_range(start='2023-01-01', periods=10),\n",
    "    'Runoff (mm)': [10, 12, 14, 9, 8, 7, 6, 9, 11, 13],\n",
    "    'Sed Del Density (tonne/ha)': [0.5, 0.7, 1.1, 0.4, 0.3, 0.2, 0.25, 0.35, 0.6, 0.9],\n",
    "    'Precipitation (mm)': [2, 3, 8, 0, 0, 1, 2, 1, 4, 7]\n",
    "})\n",
    "\n",
    "df.set_index('Date', inplace=True)\n",
    "\n",
    "# Create interactive plot\n",
    "@interact(variable=widgets.Dropdown(options=df.columns.tolist(), description='Variable:'))\n",
    "def plot_variable(variable):\n",
    "    plt.figure(figsize=(10, 5))\n",
    "    df[variable].plot(marker='o', linestyle='-')\n",
    "    plt.title(f\"{variable} Over Time\")\n",
    "    plt.ylabel(variable)\n",
    "    plt.grid(True)\n",
    "    plt.tight_layout()\n",
    "    plt.show()\n"
   ]
  },
  {
   "cell_type": "code",
   "execution_count": null,
   "id": "fd46b2b5-e091-4b84-973e-8712dac8cb81",
   "metadata": {},
   "outputs": [],
   "source": []
  }
 ],
 "metadata": {
  "kernelspec": {
   "display_name": "Python 3 (ipykernel)",
   "language": "python",
   "name": "python3"
  },
  "language_info": {
   "codemirror_mode": {
    "name": "ipython",
    "version": 3
   },
   "file_extension": ".py",
   "mimetype": "text/x-python",
   "name": "python",
   "nbconvert_exporter": "python",
   "pygments_lexer": "ipython3",
   "version": "3.12.9"
  }
 },
 "nbformat": 4,
 "nbformat_minor": 5
}
